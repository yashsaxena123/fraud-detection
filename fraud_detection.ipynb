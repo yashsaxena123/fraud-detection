{
 "cells": [
  {
   "cell_type": "code",
   "execution_count": 2,
   "id": "b8e12cff-d477-4de8-9a01-608f793dcc18",
   "metadata": {},
   "outputs": [
    {
     "name": "stdout",
     "output_type": "stream",
     "text": [
      "   Time        V1        V2        V3        V4        V5        V6        V7  \\\n",
      "0   0.0 -1.359807 -0.072781  2.536347  1.378155 -0.338321  0.462388  0.239599   \n",
      "1   0.0  1.191857  0.266151  0.166480  0.448154  0.060018 -0.082361 -0.078803   \n",
      "2   1.0 -1.358354 -1.340163  1.773209  0.379780 -0.503198  1.800499  0.791461   \n",
      "3   1.0 -0.966272 -0.185226  1.792993 -0.863291 -0.010309  1.247203  0.237609   \n",
      "4   2.0 -1.158233  0.877737  1.548718  0.403034 -0.407193  0.095921  0.592941   \n",
      "\n",
      "         V8        V9  ...       V21       V22       V23       V24       V25  \\\n",
      "0  0.098698  0.363787  ... -0.018307  0.277838 -0.110474  0.066928  0.128539   \n",
      "1  0.085102 -0.255425  ... -0.225775 -0.638672  0.101288 -0.339846  0.167170   \n",
      "2  0.247676 -1.514654  ...  0.247998  0.771679  0.909412 -0.689281 -0.327642   \n",
      "3  0.377436 -1.387024  ... -0.108300  0.005274 -0.190321 -1.175575  0.647376   \n",
      "4 -0.270533  0.817739  ... -0.009431  0.798278 -0.137458  0.141267 -0.206010   \n",
      "\n",
      "        V26       V27       V28  Amount  Class  \n",
      "0 -0.189115  0.133558 -0.021053  149.62      0  \n",
      "1  0.125895 -0.008983  0.014724    2.69      0  \n",
      "2 -0.139097 -0.055353 -0.059752  378.66      0  \n",
      "3 -0.221929  0.062723  0.061458  123.50      0  \n",
      "4  0.502292  0.219422  0.215153   69.99      0  \n",
      "\n",
      "[5 rows x 31 columns]\n"
     ]
    }
   ],
   "source": [
    "import os\n",
    "import pandas as pd\n",
    "\n",
    "\n",
    "df = pd.read_csv(r\"C:\\Users\\G\\Desktop\\AI_Fraud_Detection_Project\\data\\creditcard.csv\")\n",
    "\n",
    "\n",
    "print(df.head())\n",
    "\n",
    "\n"
   ]
  },
  {
   "cell_type": "code",
   "execution_count": null,
   "id": "ffa26809-18ad-424c-b235-0bd9b54a9400",
   "metadata": {},
   "outputs": [],
   "source": []
  },
  {
   "cell_type": "code",
   "execution_count": 3,
   "id": "01eaa959-11bc-4dac-9307-574dff9f3c3a",
   "metadata": {},
   "outputs": [
    {
     "name": "stdout",
     "output_type": "stream",
     "text": [
      "Defaulting to user installation because normal site-packages is not writeable\n",
      "Requirement already satisfied: pandas in d:\\new folder\\anaconda\\lib\\site-packages (2.2.2)\n",
      "Requirement already satisfied: scikit-learn in d:\\new folder\\anaconda\\lib\\site-packages (1.4.2)\n",
      "Requirement already satisfied: matplotlib in d:\\new folder\\anaconda\\lib\\site-packages (3.8.4)\n",
      "Requirement already satisfied: seaborn in d:\\new folder\\anaconda\\lib\\site-packages (0.13.2)\n",
      "Requirement already satisfied: numpy>=1.26.0 in d:\\new folder\\anaconda\\lib\\site-packages (from pandas) (1.26.4)\n",
      "Requirement already satisfied: python-dateutil>=2.8.2 in d:\\new folder\\anaconda\\lib\\site-packages (from pandas) (2.9.0.post0)\n",
      "Requirement already satisfied: pytz>=2020.1 in d:\\new folder\\anaconda\\lib\\site-packages (from pandas) (2024.1)\n",
      "Requirement already satisfied: tzdata>=2022.7 in d:\\new folder\\anaconda\\lib\\site-packages (from pandas) (2023.3)\n",
      "Requirement already satisfied: scipy>=1.6.0 in d:\\new folder\\anaconda\\lib\\site-packages (from scikit-learn) (1.13.1)\n",
      "Requirement already satisfied: joblib>=1.2.0 in d:\\new folder\\anaconda\\lib\\site-packages (from scikit-learn) (1.4.2)\n",
      "Requirement already satisfied: threadpoolctl>=2.0.0 in d:\\new folder\\anaconda\\lib\\site-packages (from scikit-learn) (2.2.0)\n",
      "Requirement already satisfied: contourpy>=1.0.1 in d:\\new folder\\anaconda\\lib\\site-packages (from matplotlib) (1.2.0)\n",
      "Requirement already satisfied: cycler>=0.10 in d:\\new folder\\anaconda\\lib\\site-packages (from matplotlib) (0.11.0)\n",
      "Requirement already satisfied: fonttools>=4.22.0 in d:\\new folder\\anaconda\\lib\\site-packages (from matplotlib) (4.51.0)\n",
      "Requirement already satisfied: kiwisolver>=1.3.1 in d:\\new folder\\anaconda\\lib\\site-packages (from matplotlib) (1.4.4)\n",
      "Requirement already satisfied: packaging>=20.0 in d:\\new folder\\anaconda\\lib\\site-packages (from matplotlib) (23.2)\n",
      "Requirement already satisfied: pillow>=8 in d:\\new folder\\anaconda\\lib\\site-packages (from matplotlib) (10.3.0)\n",
      "Requirement already satisfied: pyparsing>=2.3.1 in d:\\new folder\\anaconda\\lib\\site-packages (from matplotlib) (3.0.9)\n",
      "Requirement already satisfied: six>=1.5 in d:\\new folder\\anaconda\\lib\\site-packages (from python-dateutil>=2.8.2->pandas) (1.16.0)\n"
     ]
    }
   ],
   "source": [
    "!pip install pandas scikit-learn matplotlib seaborn\n"
   ]
  },
  {
   "cell_type": "code",
   "execution_count": 33,
   "id": "1868b5f6-8869-46d3-9529-588177ce20f0",
   "metadata": {},
   "outputs": [
    {
     "name": "stdout",
     "output_type": "stream",
     "text": [
      "Time      0\n",
      "V1        0\n",
      "V2        0\n",
      "V3        0\n",
      "V4        0\n",
      "V5        0\n",
      "V6        0\n",
      "V7        0\n",
      "V8        0\n",
      "V9        0\n",
      "V10       0\n",
      "V11       0\n",
      "V12       0\n",
      "V13       0\n",
      "V14       0\n",
      "V15       0\n",
      "V16       0\n",
      "V17       0\n",
      "V18       0\n",
      "V19       0\n",
      "V20       0\n",
      "V21       0\n",
      "V22       0\n",
      "V23       0\n",
      "V24       0\n",
      "V25       0\n",
      "V26       0\n",
      "V27       0\n",
      "V28       0\n",
      "Amount    0\n",
      "Class     0\n",
      "dtype: int64\n"
     ]
    }
   ],
   "source": [
    "from sklearn.model_selection import train_test_split\n",
    "from sklearn.preprocessing import StandardScaler\n",
    "\n",
    "# Check for missing values\n",
    "print(df.isnull().sum())\n",
    "\n",
    "X = df.drop(\"Class\", axis=1)\n",
    "y = df[\"Class\"]\n",
    "\n",
    "scaler = StandardScaler()\n",
    "X_scaled = scaler.fit_transform(X)\n",
    "\n",
    "X_train, X_test, y_train, y_test = train_test_split(\n",
    "    X_scaled, y, test_size=0.3, random_state=42, stratify=y)\n",
    "\n",
    "\n",
    "\n"
   ]
  },
  {
   "cell_type": "code",
   "execution_count": 34,
   "id": "b6bd188e-96f2-468e-a03e-3952cb13d17a",
   "metadata": {},
   "outputs": [
    {
     "name": "stdout",
     "output_type": "stream",
     "text": [
      "Training samples: 199364\n",
      "Testing samples: 85443\n"
     ]
    }
   ],
   "source": [
    "print(\"Training samples:\", X_train.shape[0])\n",
    "print(\"Testing samples:\", X_test.shape[0])\n"
   ]
  },
  {
   "cell_type": "code",
   "execution_count": 35,
   "id": "dc4e0ba5-0a1c-46a3-9c80-a4a58bf0bdcc",
   "metadata": {},
   "outputs": [
    {
     "name": "stdout",
     "output_type": "stream",
     "text": [
      "📊 Accuracy: 0.9991222218320986\n",
      "📉 Confusion Matrix:\n",
      " [[85279    16]\n",
      " [   59    89]]\n",
      "📄 Classification Report:\n",
      "               precision    recall  f1-score   support\n",
      "\n",
      "           0       1.00      1.00      1.00     85295\n",
      "           1       0.85      0.60      0.70       148\n",
      "\n",
      "    accuracy                           1.00     85443\n",
      "   macro avg       0.92      0.80      0.85     85443\n",
      "weighted avg       1.00      1.00      1.00     85443\n",
      "\n"
     ]
    }
   ],
   "source": [
    "from sklearn.linear_model import LogisticRegression\n",
    "from sklearn.metrics import accuracy_score, confusion_matrix, classification_report\n",
    "\n",
    "# Model banayein\n",
    "model = LogisticRegression()\n",
    "\n",
    "# Train karo\n",
    "model.fit(X_train, y_train)\n",
    "\n",
    "# Predict karo test data par\n",
    "y_pred = model.predict(X_test)\n",
    "\n",
    "# Evaluate karo model ko\n",
    "print(\"📊 Accuracy:\", accuracy_score(y_test, y_pred))\n",
    "print(\"📉 Confusion Matrix:\\n\", confusion_matrix(y_test, y_pred))\n",
    "print(\"📄 Classification Report:\\n\", classification_report(y_test, y_pred))\n"
   ]
  },
  {
   "cell_type": "code",
   "execution_count": 36,
   "id": "23b5c077-1f16-4b03-9940-8ce4405fddc8",
   "metadata": {},
   "outputs": [
    {
     "data": {
      "image/png": "[encoded data removed]",
      "text/plain": [
       "<Figure size 640x480 with 1 Axes>"
      ]
     },
     "metadata": {},
     "output_type": "display_data"
    }
   ],
   "source": [
    "from sklearn.metrics import roc_curve, roc_auc_score\n",
    "import matplotlib.pyplot as plt\n",
    "\n",
    "# Probabilities nikaal\n",
    "y_probs = model.predict_proba(X_test)[:, 1]\n",
    "\n",
    "# ROC values\n",
    "fpr, tpr, thresholds = roc_curve(y_test, y_probs)\n",
    "auc_score = roc_auc_score(y_test, y_probs)\n",
    "\n",
    "# Plot ROC\n",
    "plt.plot(fpr, tpr, label=f\"AUC = {auc_score:.2f}\")\n",
    "plt.plot([0,1], [0,1], linestyle='--')\n",
    "plt.xlabel(\"False Positive Rate\")\n",
    "plt.ylabel(\"True Positive Rate\")\n",
    "plt.title(\"ROC Curve - Fraud Detection\")\n",
    "plt.legend()\n",
    "plt.grid(True)\n",
    "plt.show()\n"
   ]
  },
  {
   "cell_type": "code",
   "execution_count": 37,
   "id": "b20ed6d7-c40d-4c89-8014-0419cb4d99af",
   "metadata": {},
   "outputs": [
    {
     "name": "stdout",
     "output_type": "stream",
     "text": [
      "Model & Scaler Saved ✅\n"
     ]
    }
   ],
   "source": [
    "import joblib\n",
    "\n",
    "# Save model\n",
    "joblib.dump(model, \"fraud_detection_model.pkl\")\n",
    "\n",
    "# Save scaler too\n",
    "joblib.dump(scaler, \"scaler.pkl\")\n",
    "\n",
    "print(\"Model & Scaler Saved ✅\")\n"
   ]
  },
  {
   "cell_type": "code",
   "execution_count": 40,
   "id": "68e5c967-ad27-4670-b077-df7a52111ea6",
   "metadata": {},
   "outputs": [],
   "source": [
    "import joblib\n",
    "import numpy as np\n",
    "\n",
    "# Load trained model and scaler\n",
    "model = joblib.load(\"fraud_detection_model.pkl\")\n",
    "scaler = joblib.load(\"scaler.pkl\")\n",
    "\n"
   ]
  },
  {
   "cell_type": "code",
   "execution_count": 43,
   "id": "4c60b742-8a62-4a60-96cf-6d0db427331c",
   "metadata": {},
   "outputs": [
    {
     "name": "stdout",
     "output_type": "stream",
     "text": [
      "✅ Legit Transaction\n"
     ]
    },
    {
     "name": "stderr",
     "output_type": "stream",
     "text": [
      "C:\\Users\\G\\.conda\\envs\\itsmehh\\Lib\\site-packages\\sklearn\\utils\\validation.py:2749: UserWarning: X does not have valid feature names, but StandardScaler was fitted with feature names\n",
      "  warnings.warn(\n"
     ]
    }
   ],
   "source": [
    "# Example sample — exactly 30 values (V1 to V28, 'Amount', 'Time')\n",
    "sample = np.array([[0.1, -1.2, 0.3, -0.5, 1.5, 0.6, -0.4, 0.0, 0.2, -1.3,\n",
    "                    0.8, 0.9, -0.2, -0.6, 1.1, -0.8, 0.4, 0.3, -0.9, 1.2,\n",
    "                    -0.1, -1.1, 0.6, 0.7, -0.5, 1.3, 0.0, 250.0, 50000.0, 0.0]])\n",
    "\n",
    "# Scale karo\n",
    "sample_scaled = scaler.transform(sample)\n",
    "\n",
    "# Predict karo\n",
    "prediction = model.predict(sample_scaled)\n",
    "\n",
    "# Output\n",
    "print(\"🛑 Fraud Transaction\" if prediction[0] == 1 else \"✅ Legit Transaction\")\n"
   ]
  },
  {
   "cell_type": "code",
   "execution_count": 44,
   "id": "cc762f73-3c31-46b3-837b-1dbc0518b4a4",
   "metadata": {},
   "outputs": [
    {
     "name": "stdout",
     "output_type": "stream",
     "text": [
      "✅ Legit Transaction\n"
     ]
    },
    {
     "name": "stderr",
     "output_type": "stream",
     "text": [
      "C:\\Users\\G\\.conda\\envs\\itsmehh\\Lib\\site-packages\\sklearn\\utils\\validation.py:2749: UserWarning: X does not have valid feature names, but StandardScaler was fitted with feature names\n",
      "  warnings.warn(\n"
     ]
    }
   ],
   "source": [
    "# Pick a known fraud sample from original dataset\n",
    "fraud_sample = df[df['Class'] == 1].iloc[0].drop(\"Class\")  # Remove label\n",
    "\n",
    "# Reshape and scale\n",
    "fraud_scaled = scaler.transform([fraud_sample])\n",
    "pred = model.predict(fraud_scaled)\n",
    "\n",
    "print(\"🛑 Fraud Transaction\" if pred[0] == 1 else \"✅ Legit Transaction\")\n"
   ]
  },
  {
   "cell_type": "code",
   "execution_count": 45,
   "id": "b9838f66-a837-41b2-a354-5223dcb9523c",
   "metadata": {},
   "outputs": [
    {
     "name": "stdout",
     "output_type": "stream",
     "text": [
      "Legit Probability: 58.47%\n",
      "Fraud Probability: 41.53%\n"
     ]
    }
   ],
   "source": [
    "prob = model.predict_proba(fraud_scaled)[0]\n",
    "print(f\"Legit Probability: {prob[0]*100:.2f}%\")\n",
    "print(f\"Fraud Probability: {prob[1]*100:.2f}%\")\n"
   ]
  },
  {
   "cell_type": "code",
   "execution_count": 46,
   "id": "f8747eb7-0640-4e81-90ee-bd8171a755ea",
   "metadata": {},
   "outputs": [
    {
     "data": {
      "image/png": "[encoded data removed]",
      "text/plain": [
       "<Figure size 640x480 with 1 Axes>"
      ]
     },
     "metadata": {},
     "output_type": "display_data"
    }
   ],
   "source": [
    "from sklearn.metrics import roc_curve, roc_auc_score\n",
    "import matplotlib.pyplot as plt\n",
    "\n",
    "# Probabilities for ROC\n",
    "y_probs = model.predict_proba(X_test)[:, 1]\n",
    "fpr, tpr, _ = roc_curve(y_test, y_probs)\n",
    "auc = roc_auc_score(y_test, y_probs)\n",
    "\n",
    "# Plot\n",
    "plt.plot(fpr, tpr, label=f\"AUC = {auc:.2f}\")\n",
    "plt.plot([0,1], [0,1], linestyle='--')\n",
    "plt.xlabel(\"False Positive Rate\")\n",
    "plt.ylabel(\"True Positive Rate\")\n",
    "plt.title(\"ROC Curve\")\n",
    "plt.legend()\n",
    "plt.grid(True)\n",
    "plt.show()\n"
   ]
  },
  {
   "cell_type": "code",
   "execution_count": null,
   "id": "b59d55e2-68c2-4ba0-9bad-728f2b7118cc",
   "metadata": {},
   "outputs": [],
   "source": []
  }
 ],
 "metadata": {
  "kernelspec": {
   "display_name": "Python 3 (ipykernel)",
   "language": "python",
   "name": "python3"
  },
  "language_info": {
   "codemirror_mode": {
    "name": "ipython",
    "version": 3
   },
   "file_extension": ".py",
   "mimetype": "text/x-python",
   "name": "python",
   "nbconvert_exporter": "python",
   "pygments_lexer": "ipython3",
   "version": "3.12.4"
  }
 },
 "nbformat": 4,
 "nbformat_minor": 5
}
